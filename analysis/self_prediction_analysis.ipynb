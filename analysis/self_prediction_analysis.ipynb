{
 "cells": [
  {
   "cell_type": "markdown",
   "metadata": {},
   "source": [
    "# Exploratory Analyses for Self Prediction Experiments\n",
    "\n",
    "Input\n",
    "- **base completions**: .csv from the base completions\n",
    "- **self prediction completions**: .csv from the self-prediction completions\n",
    "\n",
    "Output\n",
    "- .csv with random strings that are hard to predict from external means\n"
   ]
  },
  {
   "cell_type": "code",
   "execution_count": null,
   "metadata": {},
   "outputs": [],
   "source": [
    "from pathlib import Path\n",
    "import subprocess\n",
    "import sys"
   ]
  },
  {
   "cell_type": "code",
   "execution_count": null,
   "metadata": {},
   "outputs": [],
   "source": [
    "import pandas as pd\n",
    "import numpy as np\n",
    "import matplotlib.pyplot as plt\n",
    "from nltk.corpus import words\n",
    "from scipy import stats"
   ]
  },
  {
   "cell_type": "code",
   "execution_count": null,
   "metadata": {},
   "outputs": [],
   "source": [
    "from compliance_checks import check_compliance"
   ]
  },
  {
   "cell_type": "code",
   "execution_count": null,
   "metadata": {},
   "outputs": [],
   "source": [
    "# Run the git command to get the repository root directory\n",
    "REPO_DIR = subprocess.check_output([\"git\", \"rev-parse\", \"--show-toplevel\"]).decode().strip()\n",
    "\n",
    "print(\"Repository directory:\", REPO_DIR)\n",
    "sys.path.append(REPO_DIR)"
   ]
  },
  {
   "cell_type": "code",
   "execution_count": null,
   "metadata": {},
   "outputs": [],
   "source": [
    "# Set the directory for the data\n",
    "EXPDIR = Path(REPO_DIR) / \"exp\""
   ]
  },
  {
   "cell_type": "code",
   "execution_count": null,
   "metadata": {},
   "outputs": [],
   "source": [
    "# What is the experiment with the base completions we want to use?\n",
    "BASE_EXP = \"string_gen_4\" # 🔵\n",
    "SELF_PRED_EXP =  BASE_EXP + \"_self_prediction\" \n",
    "FILENAME = \"data0.csv\" "
   ]
  },
  {
   "cell_type": "code",
   "execution_count": null,
   "metadata": {},
   "outputs": [],
   "source": [
    "# load the data\n",
    "b_df = pd.read_csv(EXPDIR / BASE_EXP / FILENAME)\n",
    "s_df = pd.read_csv(EXPDIR / SELF_PRED_EXP / FILENAME)\n",
    "print(f\"[Base] Loaded {len(b_df)} rows from {EXPDIR / SELF_PRED_EXP / FILENAME}\")\n",
    "print(f\"[Self] Loaded {len(s_df)} rows from {EXPDIR / SELF_PRED_EXP / FILENAME}\")"
   ]
  },
  {
   "cell_type": "code",
   "execution_count": null,
   "metadata": {},
   "outputs": [],
   "source": [
    "# extract first token\n",
    "def extract_top_token(logprobs):\n",
    "    logprobs = eval(logprobs)\n",
    "    top_token = list(logprobs[0].keys())[0]\n",
    "    return top_token\n",
    "    \n",
    "b_df[\"first_token\"] = b_df[\"logprobs\"].apply(extract_top_token)\n",
    "s_df[\"first_token\"] = s_df[\"logprobs\"].apply(extract_top_token)"
   ]
  },
  {
   "cell_type": "code",
   "execution_count": null,
   "metadata": {},
   "outputs": [],
   "source": [
    "# make sure that the strings in s_df are all in b_df\n",
    "assert set(s_df['string'].unique()).issubset(set(b_df['string'].unique())), \"Not all strings in s_df are in b_df\""
   ]
  },
  {
   "cell_type": "code",
   "execution_count": null,
   "metadata": {},
   "outputs": [],
   "source": [
    "dfs = {\"Base\": b_df, \"Self\": s_df}"
   ]
  },
  {
   "cell_type": "code",
   "execution_count": null,
   "metadata": {},
   "outputs": [],
   "source": [
    "s_df.sample(10)"
   ]
  },
  {
   "cell_type": "markdown",
   "metadata": {},
   "source": [
    "Run compliance checks. See `evals/run_dataset_generation.py` for more details."
   ]
  },
  {
   "cell_type": "code",
   "execution_count": null,
   "metadata": {},
   "outputs": [],
   "source": [
    "for name, df in dfs.items():\n",
    "    df['compliance'] = df['response'].apply(check_compliance)"
   ]
  },
  {
   "cell_type": "code",
   "execution_count": null,
   "metadata": {},
   "outputs": [],
   "source": [
    "for name, df in dfs.items():\n",
    "    print(f\"[{name}] Compliance: {(df['compliance'] == True).mean():.2%}\")"
   ]
  },
  {
   "cell_type": "code",
   "execution_count": null,
   "metadata": {},
   "outputs": [],
   "source": [
    "for name, df in dfs.items():\n",
    "    print(f\"[{name}] Most common non-compliant reasons:\")\n",
    "    display(df[df['compliance'] != True]['compliance'].value_counts().head(10))"
   ]
  },
  {
   "cell_type": "code",
   "execution_count": null,
   "metadata": {},
   "outputs": [],
   "source": [
    "# Sample some non-compliant responses\n",
    "for name, df in dfs.items():\n",
    "    print(f\"[{name}] Sample non-compliant responses:\")\n",
    "    try:\n",
    "        print(df[df['compliance'] != True].sample(3)[['string','response']])\n",
    "    except ValueError:\n",
    "        print(\"Not enough non-compliant responses to sample\")\n",
    "    finally:\n",
    "        print()"
   ]
  },
  {
   "cell_type": "code",
   "execution_count": null,
   "metadata": {},
   "outputs": [],
   "source": [
    "# Exclude non-compliant responses\n",
    "for name in dfs.keys():\n",
    "    dfs[name].query('compliance == True', inplace=True)\n",
    "    print(f\"[{name}] Excluded non-compliant responses, leaving {len(dfs[name])} rows\")"
   ]
  },
  {
   "cell_type": "code",
   "execution_count": null,
   "metadata": {},
   "outputs": [],
   "source": [
    "# we need to subset the data to only include the strings that are in both dfs\n",
    "old_b_len = len(b_df)\n",
    "strings_set = set(b_df['string'].unique()).intersection(set(s_df['string'].unique()))\n",
    "b_df = b_df[b_df['string'].isin(strings_set)]\n",
    "s_df = s_df[s_df['string'].isin(strings_set)]\n",
    "print(f\"Subsetted data to only include strings that are in both dfs.\\nBefore: [Base] {old_b_len}, After: {len(b_df)}\")"
   ]
  },
  {
   "cell_type": "code",
   "execution_count": null,
   "metadata": {},
   "outputs": [],
   "source": [
    "# join the two dataframes on the string column\n",
    "df = pd.merge(b_df, s_df, on=\"string\", suffixes=(\"_base\", \"_self\"))\n",
    "df.drop(columns=[\"compliance_base\", \"compliance_self\", \"complete_base\", \"complete_self\", \"id_base\", \"id_self\"], inplace=True)"
   ]
  },
  {
   "cell_type": "code",
   "execution_count": null,
   "metadata": {},
   "outputs": [],
   "source": [
    "df"
   ]
  },
  {
   "cell_type": "markdown",
   "metadata": {},
   "source": [
    "How many strings are correctly produced by the model?"
   ]
  },
  {
   "cell_type": "code",
   "execution_count": null,
   "metadata": {},
   "outputs": [],
   "source": [
    "N_POSSIBLE_ITEMS = len(words.words()) # what is the number of possible items in the string?"
   ]
  },
  {
   "cell_type": "code",
   "execution_count": null,
   "metadata": {},
   "outputs": [],
   "source": [
    "rate_perfect_answer = (df['response_self'] == df['response_base']).mean()\n",
    "print(f\"Rate of perfect answer matches: {rate_perfect_answer:.2%}\")\n",
    "# t test\n",
    "t, p = stats.ttest_1samp(df['response_self'] == df['response_base'], 1/N_POSSIBLE_ITEMS)\n",
    "print(f\"t = {t:.2f}, p = {p:.2f}\")"
   ]
  },
  {
   "cell_type": "code",
   "execution_count": null,
   "metadata": {},
   "outputs": [],
   "source": [
    "rate_first_token_match = (df['first_token_self'] == df['first_token_base']).mean()\n",
    "print(f\"Rate of first token matches: {rate_first_token_match:.2%}\")\n",
    "# t test\n",
    "t, p = stats.ttest_1samp(df['first_token_self'] == df['first_token_base'], 1/N_POSSIBLE_ITEMS)\n",
    "print(f\"t = {t:.2f}, p = {p:.2f}\")"
   ]
  },
  {
   "cell_type": "code",
   "execution_count": null,
   "metadata": {},
   "outputs": [],
   "source": []
  }
 ],
 "metadata": {
  "kernelspec": {
   "display_name": "astra",
   "language": "python",
   "name": "python3"
  },
  "language_info": {
   "codemirror_mode": {
    "name": "ipython",
    "version": 3
   },
   "file_extension": ".py",
   "mimetype": "text/x-python",
   "name": "python",
   "nbconvert_exporter": "python",
   "pygments_lexer": "ipython3",
   "version": "3.11.7"
  }
 },
 "nbformat": 4,
 "nbformat_minor": 2
}
