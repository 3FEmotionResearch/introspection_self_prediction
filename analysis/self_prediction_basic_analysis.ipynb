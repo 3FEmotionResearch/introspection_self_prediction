{
 "cells": [
  {
   "cell_type": "markdown",
   "metadata": {},
   "source": [
    "# Basic Analyses for Self Prediction Experiments"
   ]
  },
  {
   "cell_type": "code",
   "execution_count": null,
   "metadata": {},
   "outputs": [],
   "source": [
    "# What is the experiment with the base completions we want to use?\n",
    "BASE_EXP = \"num_4\" # 🔵 within exp/\n",
    "SELF_PRED_EXP =  BASE_EXP + \"_5_shot\" # 🔵\n",
    "FILENAME = \"data0.csv\" "
   ]
  },
  {
   "cell_type": "code",
   "execution_count": null,
   "metadata": {},
   "outputs": [],
   "source": [
    "from pathlib import Path\n",
    "import subprocess\n",
    "import sys"
   ]
  },
  {
   "cell_type": "code",
   "execution_count": null,
   "metadata": {},
   "outputs": [],
   "source": [
    "import pandas as pd\n",
    "import numpy as np\n",
    "import matplotlib.pyplot as plt\n",
    "from nltk.corpus import words\n",
    "from scipy import stats"
   ]
  },
  {
   "cell_type": "code",
   "execution_count": null,
   "metadata": {},
   "outputs": [],
   "source": [
    "from compliance_checks import check_compliance\n",
    "from string_cleaning import apply_all_cleaning\n",
    "from analysis_helpers import load_and_prep_dfs, merge_base_and_meta_dfs"
   ]
  },
  {
   "cell_type": "code",
   "execution_count": null,
   "metadata": {},
   "outputs": [],
   "source": [
    "# Set the display option to None to show all content\n",
    "pd.set_option('display.max_colwidth', None)"
   ]
  },
  {
   "cell_type": "code",
   "execution_count": null,
   "metadata": {},
   "outputs": [],
   "source": [
    "# Run the git command to get the repository root directory\n",
    "REPO_DIR = subprocess.check_output([\"git\", \"rev-parse\", \"--show-toplevel\"]).decode().strip()\n",
    "\n",
    "print(\"Repository directory:\", REPO_DIR)\n",
    "sys.path.append(REPO_DIR)"
   ]
  },
  {
   "cell_type": "code",
   "execution_count": null,
   "metadata": {},
   "outputs": [],
   "source": [
    "# Set the directory for the data\n",
    "EXPDIR = Path(REPO_DIR) / \"exp\""
   ]
  },
  {
   "cell_type": "code",
   "execution_count": null,
   "metadata": {},
   "outputs": [],
   "source": [
    "dfs = load_and_prep_dfs([\n",
    "    EXPDIR / BASE_EXP / FILENAME,\n",
    "    EXPDIR / SELF_PRED_EXP / FILENAME,\n",
    "])"
   ]
  },
  {
   "cell_type": "code",
   "execution_count": null,
   "metadata": {},
   "outputs": [],
   "source": [
    "df = merge_base_and_meta_dfs(*dfs.values())"
   ]
  },
  {
   "cell_type": "markdown",
   "metadata": {},
   "source": [
    "How many strings are correctly produced by the model?"
   ]
  },
  {
   "cell_type": "code",
   "execution_count": null,
   "metadata": {},
   "outputs": [],
   "source": [
    "# N_POSSIBLE_ITEMS = len(words.words()) # what is the number of possible items in the string?\n",
    "N_POSSIBLE_ITEMS = 10\n",
    "print(f\"Number of possible items in the string: {N_POSSIBLE_ITEMS},\\nwhich gives us a probability of {1/N_POSSIBLE_ITEMS:.6%} for a random guess\")"
   ]
  },
  {
   "cell_type": "code",
   "execution_count": null,
   "metadata": {},
   "outputs": [],
   "source": [
    "rate_perfect_answer = (df['response_self'] == df['response_base']).mean()\n",
    "print(f\"Rate of perfect answer matches: {rate_perfect_answer:.2%}\")\n",
    "# t test\n",
    "t, p = stats.ttest_1samp(df['response_self'] == df['response_base'], 1/N_POSSIBLE_ITEMS)\n",
    "print(f\"t = {t:.2f}, p = {p:.2f}\")"
   ]
  },
  {
   "cell_type": "code",
   "execution_count": null,
   "metadata": {},
   "outputs": [],
   "source": [
    "rate_first_token_match = (df['first_token_self'] == df['first_token_base']).mean()\n",
    "print(f\"Rate of first token matches: {rate_first_token_match:.2%}\")\n",
    "# t test\n",
    "t, p = stats.ttest_1samp(df['first_token_self'] == df['first_token_base'], 1/N_POSSIBLE_ITEMS)\n",
    "print(f\"t = {t:.2f}, p = {p:.2f}\")"
   ]
  },
  {
   "cell_type": "code",
   "execution_count": null,
   "metadata": {},
   "outputs": [],
   "source": [
    "# let's qualitatively look at the matches\n",
    "df[df['response_self'] == df['response_base']][['string', 'response_self', 'response_base', 'first_logprobs_base', 'last_word_repeated_self', 'nonlast_word_repeated_self']]"
   ]
  },
  {
   "cell_type": "markdown",
   "metadata": {},
   "source": [
    "The models like to repeat the last word of the string. That is not a problem per se since we select the strings to be hard to predict."
   ]
  },
  {
   "cell_type": "code",
   "execution_count": null,
   "metadata": {},
   "outputs": [],
   "source": [
    "prop_repeat_last_word = df[df['response_self'] == df['response_base']]['last_word_repeated_self'].mean()\n",
    "print(f\"Proportion of response-matching strings where the model repeats the last word:\\t{prop_repeat_last_word:.2%}\")"
   ]
  },
  {
   "cell_type": "code",
   "execution_count": null,
   "metadata": {},
   "outputs": [],
   "source": [
    "# if we exclude the strings where the model repeats the last word, what is the rate of perfect matches?\n",
    "df_no_repeat = df[df['last_word_repeated_self'] == False]\n",
    "print(f\"There are {len(df_no_repeat)} rows where the model does not repeat the last word\")\n",
    "rate_perfect_answer_no_repeat = (df_no_repeat['response_self'] == df_no_repeat['response_base']).mean()\n",
    "print(f\"Rate of perfect answer matches (without word repetition):\\t{rate_perfect_answer_no_repeat:.2%}\")\n",
    "# t test\n",
    "t, p = stats.ttest_1samp(df_no_repeat['response_self'] == df_no_repeat['response_base'], 1/N_POSSIBLE_ITEMS)\n",
    "print(f\"t = {t:.2f}, p = {p:.2f}\")"
   ]
  },
  {
   "cell_type": "code",
   "execution_count": null,
   "metadata": {},
   "outputs": [],
   "source": [
    "# let's qualitatively look at the matches\n",
    "df_no_repeat[df_no_repeat['response_self'] == df_no_repeat['response_base']][['string', 'response_self', 'response_base', 'last_word_repeated_self', 'nonlast_word_repeated_self']]"
   ]
  },
  {
   "cell_type": "code",
   "execution_count": null,
   "metadata": {},
   "outputs": [],
   "source": [
    "# ok, what about those that aren't in the string at all?\n",
    "df_no_repeat_no_repeats = df_no_repeat[df_no_repeat['nonlast_word_repeated_self'] == False]\n",
    "print(f\"There are {len(df_no_repeat_no_repeats)} rows where the model doesn't repeat the last word or any other word\")\n",
    "rate_perfect_answer_no_repeat_no_repeats = (df_no_repeat_no_repeats['response_self'] == df_no_repeat_no_repeats['response_base']).mean()\n",
    "print(f\"Rate of perfect answer matches (without word repetition and nonlast word repetition):\\t{rate_perfect_answer_no_repeat_no_repeats:.2%}\")\n",
    "# t test\n",
    "t, p = stats.ttest_1samp(df_no_repeat_no_repeats['response_self'] == df_no_repeat_no_repeats['response_base'], 1/N_POSSIBLE_ITEMS)\n",
    "print(f\"t = {t:.2f}, p = {p:.2f}\")\n"
   ]
  },
  {
   "cell_type": "code",
   "execution_count": null,
   "metadata": {},
   "outputs": [],
   "source": [
    "# let's look at this most selective set of strings\n",
    "df_no_repeat_no_repeats[df_no_repeat_no_repeats['response_self'] == df_no_repeat_no_repeats['response_base']][['string', 'response_self', 'response_base', 'last_word_repeated_self', 'nonlast_word_repeated_self']]"
   ]
  },
  {
   "cell_type": "code",
   "execution_count": null,
   "metadata": {},
   "outputs": [],
   "source": []
  },
  {
   "cell_type": "code",
   "execution_count": null,
   "metadata": {},
   "outputs": [],
   "source": []
  }
 ],
 "metadata": {
  "kernelspec": {
   "display_name": "astra",
   "language": "python",
   "name": "python3"
  },
  "language_info": {
   "codemirror_mode": {
    "name": "ipython",
    "version": 3
   },
   "file_extension": ".py",
   "mimetype": "text/x-python",
   "name": "python",
   "nbconvert_exporter": "python",
   "pygments_lexer": "ipython3",
   "version": "3.11.7"
  }
 },
 "nbformat": 4,
 "nbformat_minor": 2
}
