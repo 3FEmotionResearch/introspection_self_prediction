{
 "cells": [
  {
   "cell_type": "code",
   "execution_count": 13,
   "metadata": {},
   "outputs": [],
   "source": [
    "from evals.load import generate_random_strings as grs\n",
    "import random"
   ]
  },
  {
   "cell_type": "code",
   "execution_count": 6,
   "metadata": {},
   "outputs": [],
   "source": [
    "import json\n",
    "from pathlib import Path"
   ]
  },
  {
   "cell_type": "code",
   "execution_count": 9,
   "metadata": {},
   "outputs": [],
   "source": [
    "DATASET_PATH = Path(\"/Users/felixbinder/Astra/introspection_self_prediction/evals/datasets\")"
   ]
  },
  {
   "cell_type": "code",
   "execution_count": 10,
   "metadata": {},
   "outputs": [
    {
     "data": {
      "text/plain": [
       "True"
      ]
     },
     "execution_count": 10,
     "metadata": {},
     "output_type": "execute_result"
    }
   ],
   "source": [
    "DATASET_PATH.exists()"
   ]
  },
  {
   "cell_type": "code",
   "execution_count": 11,
   "metadata": {},
   "outputs": [],
   "source": [
    "def create_dataset(strings, name):\n",
    "    with open(DATASET_PATH / f\"{name}.jsonl\", \"w\") as f:\n",
    "        for s in strings:\n",
    "            f.write(json.dumps({\"string\": s}) + \"\\n\")\n",
    "    print (f\"Created dataset {name} with {len(strings)} strings\")\n",
    "    return DATASET_PATH / f\"{name}.jsonl\""
   ]
  },
  {
   "cell_type": "code",
   "execution_count": 12,
   "metadata": {},
   "outputs": [],
   "source": [
    "def split_jsonl_into_train_validation(input_file_path):\n",
    "    # Set the seed for reproducibility\n",
    "    random.seed(42)\n",
    "\n",
    "    # Define the split ratio\n",
    "    split_ratio = 0.8  # 80% for training, 20% for validation\n",
    "\n",
    "    # File paths\n",
    "    input_file_path = Path(input_file_path)\n",
    "    train_file_path = input_file_path.parent / f\"train_{input_file_path.name}\"\n",
    "    validation_file_path = input_file_path.parent / f\"val_{input_file_path.name}\"\n",
    "\n",
    "    # Read .jsonl file and split the data\n",
    "    with open(input_file_path, \"r\") as infile, open(train_file_path, \"w\") as train_file, open(\n",
    "        validation_file_path, \"w\"\n",
    "    ) as validation_file:\n",
    "        # Temporary lists to store the splits\n",
    "        lines = infile.readlines()\n",
    "        random.shuffle(lines)  # Shuffle the lines to ensure random distribution\n",
    "\n",
    "        # Calculate the split index\n",
    "        split_index = int(len(lines) * split_ratio)\n",
    "\n",
    "        # Split the data\n",
    "        train_lines = lines[:split_index]\n",
    "        validation_lines = lines[split_index:]\n",
    "\n",
    "        # Write the splits to their respective files\n",
    "        for line in train_lines:\n",
    "            train_file.write(line)\n",
    "        for line in validation_lines:\n",
    "            validation_file.write(line)"
   ]
  },
  {
   "cell_type": "code",
   "execution_count": 14,
   "metadata": {},
   "outputs": [],
   "source": [
    "def create_and_split_dataset(strings, name):\n",
    "    dataset_path = create_dataset(strings, name)\n",
    "    split_jsonl_into_train_validation(dataset_path)\n",
    "    return dataset_path"
   ]
  },
  {
   "cell_type": "code",
   "execution_count": 16,
   "metadata": {},
   "outputs": [
    {
     "name": "stdout",
     "output_type": "stream",
     "text": [
      "numbers 10\n",
      "Created dataset numbers with 10 strings\n",
      "letters 26\n",
      "Created dataset letters with 26 strings\n",
      "animals 30\n",
      "Created dataset animals with 30 strings\n",
      "english_words 236736\n",
      "Created dataset english_words with 236736 strings\n",
      "number_doublets 100\n",
      "Created dataset number_doublets with 100 strings\n",
      "number_triplets 1000\n",
      "Created dataset number_triplets with 1000 strings\n",
      "number_quadruplets 10000\n",
      "Created dataset number_quadruplets with 10000 strings\n"
     ]
    }
   ],
   "source": [
    "for name, strings in grs.RANDOM_SETS.items():\n",
    "    print(name, len(strings))\n",
    "    create_and_split_dataset(strings, name)"
   ]
  },
  {
   "cell_type": "markdown",
   "metadata": {},
   "source": [
    "unroll the wikipedia/daily dialog too"
   ]
  },
  {
   "cell_type": "code",
   "execution_count": 17,
   "metadata": {},
   "outputs": [],
   "source": [
    "from scripts.sentence_completion_dataset_creation import sentence_completion_generator"
   ]
  },
  {
   "cell_type": "code",
   "execution_count": null,
   "metadata": {},
   "outputs": [],
   "source": []
  },
  {
   "cell_type": "code",
   "execution_count": null,
   "metadata": {},
   "outputs": [],
   "source": [
    "        generator = sentence_completion_generator(**kwargs)\n",
    "        for i, line in enumerate(generator):\n",
    "            string = line[\"string\"]\n",
    "            target = line[\"target\"]\n",
    "            metadata = line[\"metadata\"]\n",
    "            data.append({\"id\": i, \"string\": string, \"target\": target, \"metadata\": metadata})\n"
   ]
  }
 ],
 "metadata": {
  "kernelspec": {
   "display_name": "astra",
   "language": "python",
   "name": "python3"
  },
  "language_info": {
   "codemirror_mode": {
    "name": "ipython",
    "version": 3
   },
   "file_extension": ".py",
   "mimetype": "text/x-python",
   "name": "python",
   "nbconvert_exporter": "python",
   "pygments_lexer": "ipython3",
   "version": "3.11.7"
  }
 },
 "nbformat": 4,
 "nbformat_minor": 2
}
